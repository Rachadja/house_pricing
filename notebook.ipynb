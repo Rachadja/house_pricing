{
 "cells": [
  {
   "cell_type": "code",
   "execution_count": 129,
   "id": "5f8355e9",
   "metadata": {},
   "outputs": [],
   "source": [
    "import pandas as pd\n",
    "import numpy as np\n"
   ]
  },
  {
   "cell_type": "markdown",
   "id": "a257867a",
   "metadata": {},
   "source": [
    "# Features \n",
    "\n",
    "* Price: The price of the house.\n",
    "\n",
    "* Area: The total area of the house in square feet.\n",
    "\n",
    "* Bedrooms: The number of bedrooms in the house.\n",
    "\n",
    "* Bathrooms: The number of bathrooms in the house.\n",
    "\n",
    "* Stories: The number of stories in the house.\n",
    "\n",
    "* Mainroad: Whether the house is connected to the main road (Yes/No).\n",
    "\n",
    "* Guestroom: Whether the house has a guest room (Yes/No).\n",
    "\n",
    "* Basement: Whether the house has a basement (Yes/No).\n",
    "\n",
    "* Hot water heating: Whether the house has a hot water heating system (Yes/No).\n",
    "\n",
    "* Airconditioning: Whether the house has an air conditioning system (Yes/No).\n",
    "\n",
    "* Parking: The number of parking spaces available within the house.\n",
    "\n",
    "* Prefarea: Whether the house is located in a preferred area (Yes/No).\n",
    "\n",
    "* Furnishing status: The furnishing status of the house (Fully Furnished, Semi-Furnished, Unfurnished).\n",
    "\n",
    "* House Age: the house age"
   ]
  },
  {
   "cell_type": "markdown",
   "id": "4ab18122",
   "metadata": {},
   "source": [
    "# 1 Exploration des données (EDA)"
   ]
  },
  {
   "cell_type": "markdown",
   "id": "4073e442",
   "metadata": {},
   "source": [
    "## 1.1 Importation des données"
   ]
  },
  {
   "cell_type": "code",
   "execution_count": 3,
   "id": "41f4d07a",
   "metadata": {},
   "outputs": [],
   "source": [
    "df = load_data('src/data_processing/load_data.py')\n",
    "# pd.read_csv('C:/Users/BIBER/Desktop/adama_project/projet-ds/data/house_prices.csv')\n",
    "df.head()\n"
   ]
  },
  {
   "cell_type": "markdown",
   "id": "ded77837",
   "metadata": {},
   "source": [
    "## 1.2 Nettoyage des données"
   ]
  },
  {
   "cell_type": "markdown",
   "id": "33443ad0",
   "metadata": {},
   "source": [
    "### 1.2.1 Formatage des données"
   ]
  },
  {
   "cell_type": "code",
   "execution_count": 5,
   "id": "e8559199",
   "metadata": {},
   "outputs": [],
   "source": [
    "def formatage_donnee(data):\n",
    "    \"\"\"\n",
    "    Description\n",
    "    Cette fonction change le nommage des colonnes (minuscule,\n",
    "    sans espace, lié avec underscore). Rendre unique des valeurs écrites différemment.\n",
    "    \n",
    "    Parameters\n",
    "    ----------\n",
    "    data: A DataFrame\n",
    "    Returns: \n",
    "    ----------\n",
    "    A cleaned DataFrame\n",
    "    \"\"\"\n",
    "    # Writing the columns names in lowercase, and replacing any space in the names with _\n",
    "    data = data.rename(columns=lambda x: x.lower().replace(' ', '_'))\n",
    "    \n",
    "    # Making unique values that have been written diffrentely \n",
    "    for col in data.columns:\n",
    "        if data[col].dtype == 'object':\n",
    "            data[col] = data[col].str.lower()\n",
    "    \n",
    "            \n",
    "    return data                "
   ]
  },
  {
   "cell_type": "markdown",
   "id": "aa1af206",
   "metadata": {},
   "source": [
    "### 1.2.2 Valeurs manquantes\n"
   ]
  },
  {
   "cell_type": "code",
   "execution_count": 42,
   "id": "93d5ea64",
   "metadata": {},
   "outputs": [
    {
     "data": {
      "text/plain": [
       "price                 20\n",
       "area                  15\n",
       "bedrooms              24\n",
       "bathrooms             21\n",
       "stories               15\n",
       "mainroad              16\n",
       "guestroom             23\n",
       "basement              22\n",
       "hotwaterheating       18\n",
       "air_conditioning      15\n",
       "parking               16\n",
       "prefarea              14\n",
       "furnishing_status     23\n",
       "houseage             804\n",
       "dtype: int64"
      ]
     },
     "execution_count": 42,
     "metadata": {},
     "output_type": "execute_result"
    }
   ],
   "source": [
    "# Since missing values depend on the data we have to chekc how many data are missing in each columns, then decide.\n",
    "df.isnull().sum(axis = 0)    "
   ]
  },
  {
   "cell_type": "code",
   "execution_count": 7,
   "id": "fd63349f",
   "metadata": {},
   "outputs": [],
   "source": [
    "# We notice that houseage column has 804 missing value out of 806, so we remove this column\n",
    "df = df.drop('houseage', axis=1)"
   ]
  },
  {
   "cell_type": "code",
   "execution_count": 50,
   "id": "b9da43b9",
   "metadata": {},
   "outputs": [],
   "source": [
    "# For the missing values, we can replace the missing values with the most frequent value in each column for example, or \n",
    "# take the mean for float colums, or be pessimistic and put the worst possible value!\n",
    "# The better approach is replace them once we visualte the data"
   ]
  },
  {
   "cell_type": "code",
   "execution_count": 8,
   "id": "8c246717",
   "metadata": {},
   "outputs": [
    {
     "data": {
      "text/plain": [
       "price                20\n",
       "area                 15\n",
       "bedrooms             24\n",
       "bathrooms            21\n",
       "stories              15\n",
       "mainroad             16\n",
       "guestroom            23\n",
       "basement             22\n",
       "hotwaterheating      18\n",
       "air_conditioning     15\n",
       "parking              16\n",
       "prefarea             14\n",
       "furnishing_status    23\n",
       "dtype: int64"
      ]
     },
     "execution_count": 8,
     "metadata": {},
     "output_type": "execute_result"
    }
   ],
   "source": [
    "df.isnull().sum(axis = 0)  "
   ]
  },
  {
   "cell_type": "markdown",
   "id": "fcf33596",
   "metadata": {},
   "source": [
    "## 1.3 Visualisation des données"
   ]
  },
  {
   "cell_type": "code",
   "execution_count": 9,
   "id": "c05190db",
   "metadata": {},
   "outputs": [
    {
     "data": {
      "text/html": [
       "<div>\n",
       "<style scoped>\n",
       "    .dataframe tbody tr th:only-of-type {\n",
       "        vertical-align: middle;\n",
       "    }\n",
       "\n",
       "    .dataframe tbody tr th {\n",
       "        vertical-align: top;\n",
       "    }\n",
       "\n",
       "    .dataframe thead th {\n",
       "        text-align: right;\n",
       "    }\n",
       "</style>\n",
       "<table border=\"1\" class=\"dataframe\">\n",
       "  <thead>\n",
       "    <tr style=\"text-align: right;\">\n",
       "      <th></th>\n",
       "      <th>price</th>\n",
       "      <th>area</th>\n",
       "      <th>bedrooms</th>\n",
       "      <th>bathrooms</th>\n",
       "      <th>stories</th>\n",
       "      <th>mainroad</th>\n",
       "      <th>guestroom</th>\n",
       "      <th>basement</th>\n",
       "      <th>hotwaterheating</th>\n",
       "      <th>air_conditioning</th>\n",
       "      <th>parking</th>\n",
       "      <th>prefarea</th>\n",
       "      <th>furnishing_status</th>\n",
       "    </tr>\n",
       "  </thead>\n",
       "  <tbody>\n",
       "    <tr>\n",
       "      <th>0</th>\n",
       "      <td>4543000.0</td>\n",
       "      <td>4990.0</td>\n",
       "      <td>4.0</td>\n",
       "      <td>2.0</td>\n",
       "      <td>2.0</td>\n",
       "      <td>yes</td>\n",
       "      <td>yes</td>\n",
       "      <td>yes</td>\n",
       "      <td>no</td>\n",
       "      <td>no</td>\n",
       "      <td>0.0</td>\n",
       "      <td>yes</td>\n",
       "      <td>furnished</td>\n",
       "    </tr>\n",
       "    <tr>\n",
       "      <th>1</th>\n",
       "      <td>8080940.0</td>\n",
       "      <td>7000.0</td>\n",
       "      <td>3.0</td>\n",
       "      <td>2.0</td>\n",
       "      <td>4.0</td>\n",
       "      <td>yes</td>\n",
       "      <td>no</td>\n",
       "      <td>no</td>\n",
       "      <td>no</td>\n",
       "      <td>yes</td>\n",
       "      <td>2.0</td>\n",
       "      <td>no</td>\n",
       "      <td>furnished</td>\n",
       "    </tr>\n",
       "    <tr>\n",
       "      <th>2</th>\n",
       "      <td>8750000.0</td>\n",
       "      <td>4321.0</td>\n",
       "      <td>3.0</td>\n",
       "      <td>2.0</td>\n",
       "      <td>2.0</td>\n",
       "      <td>yes</td>\n",
       "      <td>no</td>\n",
       "      <td>yes</td>\n",
       "      <td>yes</td>\n",
       "      <td>no</td>\n",
       "      <td>2.0</td>\n",
       "      <td>no</td>\n",
       "      <td>furnished</td>\n",
       "    </tr>\n",
       "    <tr>\n",
       "      <th>3</th>\n",
       "      <td>1890000.0</td>\n",
       "      <td>1700.0</td>\n",
       "      <td>3.0</td>\n",
       "      <td>1.0</td>\n",
       "      <td>2.0</td>\n",
       "      <td>yes</td>\n",
       "      <td>no</td>\n",
       "      <td>no</td>\n",
       "      <td>no</td>\n",
       "      <td>no</td>\n",
       "      <td>0.0</td>\n",
       "      <td>no</td>\n",
       "      <td>unfurnished</td>\n",
       "    </tr>\n",
       "    <tr>\n",
       "      <th>4</th>\n",
       "      <td>12215000.0</td>\n",
       "      <td>7500.0</td>\n",
       "      <td>4.0</td>\n",
       "      <td>2.0</td>\n",
       "      <td>2.0</td>\n",
       "      <td>yes</td>\n",
       "      <td>no</td>\n",
       "      <td>yes</td>\n",
       "      <td>no</td>\n",
       "      <td>yes</td>\n",
       "      <td>3.0</td>\n",
       "      <td>yes</td>\n",
       "      <td>furnished</td>\n",
       "    </tr>\n",
       "  </tbody>\n",
       "</table>\n",
       "</div>"
      ],
      "text/plain": [
       "        price    area  bedrooms  bathrooms  stories mainroad guestroom  \\\n",
       "0   4543000.0  4990.0       4.0        2.0      2.0      yes       yes   \n",
       "1   8080940.0  7000.0       3.0        2.0      4.0      yes        no   \n",
       "2   8750000.0  4321.0       3.0        2.0      2.0      yes        no   \n",
       "3   1890000.0  1700.0       3.0        1.0      2.0      yes        no   \n",
       "4  12215000.0  7500.0       4.0        2.0      2.0      yes        no   \n",
       "\n",
       "  basement hotwaterheating air_conditioning  parking prefarea  \\\n",
       "0      yes              no               no      0.0      yes   \n",
       "1       no              no              yes      2.0       no   \n",
       "2      yes             yes               no      2.0       no   \n",
       "3       no              no               no      0.0       no   \n",
       "4      yes              no              yes      3.0      yes   \n",
       "\n",
       "  furnishing_status  \n",
       "0         furnished  \n",
       "1         furnished  \n",
       "2         furnished  \n",
       "3       unfurnished  \n",
       "4         furnished  "
      ]
     },
     "execution_count": 9,
     "metadata": {},
     "output_type": "execute_result"
    }
   ],
   "source": [
    "import matplotlib.pyplot as plt\n",
    "import seaborn as sns\n",
    "\n",
    "df.head()"
   ]
  },
  {
   "cell_type": "markdown",
   "id": "bbd6bcd5",
   "metadata": {},
   "source": [
    "### 1.3.1 Etude univariée"
   ]
  },
  {
   "cell_type": "code",
   "execution_count": 126,
   "id": "25d1a153",
   "metadata": {},
   "outputs": [],
   "source": [
    "def etude_univarie(data):\n",
    "    colonne_quanti = data.select_dtypes(\"float\").columns\n",
    "    colonne_quali = data.select_dtypes(\"object\").columns\n",
    "    \n",
    "    fig, axes = plt.subplots(nrows=3, ncols=len(colonne_quanti), figsize=(15, 8))\n",
    "\n",
    "    # Parcourez chaque colonne quantitative et affichez son histogramme\n",
    "    for i, col in enumerate(colonne_quanti):\n",
    "        sns.histplot(data[col].to_numpy(), kde=True, ax=axes[0, i], color=\"blue\", bins=30)\n",
    "        axes[0, i].set_xlabel(col)\n",
    "        axes[0, i].set_ylabel('Fréquence')\n",
    "    \n",
    "    # Parcourez chaque colonne qualitative et affichez un diagramme en secteurs (pie chart)\n",
    "    for i, col in enumerate(colonne_quali):\n",
    "        counts = data[col].value_counts()\n",
    "        if i < len(colonne_quali) and i < 6:\n",
    "            row = 1\n",
    "        else:\n",
    "            row = 2\n",
    "            i -= 6  # Réduisez l'indice pour accéder correctement aux colonnes qualitatives dans la deuxième ligne\n",
    "        axes[row, i].pie(counts, labels=counts.index, autopct='%1.1f%%')\n",
    "        axes[row, i].set_xlabel(col)\n",
    "        axes[row, i].set_ylabel('')\n",
    "    for i in range(1,6):\n",
    "        axes[2,i].axis('off')    \n",
    "\n",
    "    # Ajustez la mise en page pour éviter les chevauchements d'étiquettes\n",
    "    plt.tight_layout()\n",
    "    # Affichez la figure\n",
    "    plt.show()"
   ]
  },
  {
   "cell_type": "markdown",
   "id": "abb0239f",
   "metadata": {},
   "source": [
    "### 1.3.2 Etude multivariée"
   ]
  },
  {
   "cell_type": "code",
   "execution_count": null,
   "id": "484265ff",
   "metadata": {},
   "outputs": [],
   "source": []
  },
  {
   "cell_type": "markdown",
   "id": "3fa09d06",
   "metadata": {},
   "source": [
    "### 1.4 Typage des variables"
   ]
  },
  {
   "cell_type": "code",
   "execution_count": null,
   "id": "6a9cc9ce",
   "metadata": {},
   "outputs": [],
   "source": [
    "def typage_variable(data):\n",
    "    \"\"\"\n",
    "    ...\n",
    "    \"\"\"\n",
    "    # On cree un variable qui contient le nom des colonnes de type object\n",
    "    object_columns = data.select_dtypes(include=['object']).columns\n",
    "    \n",
    "    # On change les valeurs 'yes' et 'no' dans notre data à 1 et 0 respectivement,\n",
    "    for col in object_columns:\n",
    "        data[col] = data[col].replace({'yes' : 1, 'no' : 0, 'semi-furnished' : 'semi_furnished' })\n",
    "    \n",
    "    # On fait one hot encoding the the variable furnishing_status\n",
    "    data = pd.get_dummies(data, columns=['furnishing_status'])\n",
    "    \n",
    "    return data"
   ]
  },
  {
   "cell_type": "markdown",
   "id": "61fcda3d",
   "metadata": {},
   "source": [
    "# 2 Validation croisée"
   ]
  },
  {
   "cell_type": "code",
   "execution_count": null,
   "id": "ae6001d2",
   "metadata": {},
   "outputs": [],
   "source": []
  },
  {
   "cell_type": "markdown",
   "id": "5a448ec4",
   "metadata": {},
   "source": [
    "# 3 Machine learning"
   ]
  },
  {
   "cell_type": "markdown",
   "id": "973aae55",
   "metadata": {},
   "source": [
    "## 3.1 Baseline"
   ]
  },
  {
   "cell_type": "code",
   "execution_count": null,
   "id": "8a0917ce",
   "metadata": {},
   "outputs": [],
   "source": []
  },
  {
   "cell_type": "markdown",
   "id": "15c00148",
   "metadata": {},
   "source": [
    "## 3.2 Modèle de régression linéaire"
   ]
  },
  {
   "cell_type": "code",
   "execution_count": null,
   "id": "713795d8",
   "metadata": {},
   "outputs": [],
   "source": []
  },
  {
   "cell_type": "markdown",
   "id": "f0024f48",
   "metadata": {},
   "source": [
    "## 3.3 Modèle ensembliste"
   ]
  },
  {
   "cell_type": "code",
   "execution_count": null,
   "id": "3c1e3811",
   "metadata": {},
   "outputs": [],
   "source": []
  },
  {
   "cell_type": "markdown",
   "id": "0acd2b40",
   "metadata": {},
   "source": [
    "## 3.4 Features importances"
   ]
  },
  {
   "cell_type": "code",
   "execution_count": null,
   "id": "b49c5cf0",
   "metadata": {},
   "outputs": [],
   "source": []
  },
  {
   "cell_type": "markdown",
   "id": "b52f87c4",
   "metadata": {},
   "source": [
    "# 4 Bonus"
   ]
  },
  {
   "cell_type": "code",
   "execution_count": null,
   "id": "6a81ea8e",
   "metadata": {},
   "outputs": [],
   "source": []
  }
 ],
 "metadata": {
  "kernelspec": {
   "display_name": "Python 3 (ipykernel)",
   "language": "python",
   "name": "python3"
  },
  "language_info": {
   "codemirror_mode": {
    "name": "ipython",
    "version": 3
   },
   "file_extension": ".py",
   "mimetype": "text/x-python",
   "name": "python",
   "nbconvert_exporter": "python",
   "pygments_lexer": "ipython3",
   "version": "3.9.13"
  }
 },
 "nbformat": 4,
 "nbformat_minor": 5
}
